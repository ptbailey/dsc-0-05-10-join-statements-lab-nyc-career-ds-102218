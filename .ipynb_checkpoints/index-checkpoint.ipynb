{
 "cells": [
  {
   "cell_type": "markdown",
   "metadata": {},
   "source": [
    "# Join Statements"
   ]
  },
  {
   "cell_type": "markdown",
   "metadata": {},
   "source": [
    "## Introduction"
   ]
  },
  {
   "cell_type": "markdown",
   "metadata": {},
   "source": [
    "In this lab, you'll practice your knowledge on Join statements."
   ]
  },
  {
   "cell_type": "markdown",
   "metadata": {},
   "source": [
    "## Objectives"
   ]
  },
  {
   "cell_type": "markdown",
   "metadata": {},
   "source": [
    "You will be able to:\n",
    "- Write queries that make use of various types of Joins\n",
    "- Join tables using foreign keys"
   ]
  },
  {
   "cell_type": "markdown",
   "metadata": {},
   "source": [
    "## CRM Schema\n",
    "\n",
    "In almost all cases, rather then just working with a single table we will typically need data from multiple tables. \n",
    "Doing this requires the use of **joins ** using shared columns from the two tables. \n",
    "\n",
    "In this lab, we'll use the same Customer Relationship Management (CRM) database we used in our lecture before!\n",
    "<img src='Database-Schema.png' width=550>"
   ]
  },
  {
   "cell_type": "markdown",
   "metadata": {},
   "source": [
    "## Connecting to the Database\n",
    "Import the necessary packages and connect to the database **data.sqlite**."
   ]
  },
  {
   "cell_type": "code",
   "execution_count": 2,
   "metadata": {},
   "outputs": [],
   "source": [
    "import sqlite3\n",
    "connection = sqlite3.connect('data.sqlite')\n",
    "cursor = connection.cursor()\n"
   ]
  },
  {
   "cell_type": "code",
   "execution_count": 4,
   "metadata": {},
   "outputs": [
    {
     "name": "stdout",
     "output_type": "stream",
     "text": [
      "[('orderdetails',), ('payments',), ('offices',), ('customers',), ('orders',), ('productlines',), ('products',), ('employees',)]\n"
     ]
    }
   ],
   "source": [
    "cursor.execute(\"SELECT name FROM sqlite_master WHERE type='table';\")\n",
    "#sqlite_master is the master table that stores all the tables in the database\n",
    "# databases can hold more than tables, that's why we have type = table\n",
    "print(cursor.fetchall())"
   ]
  },
  {
   "cell_type": "markdown",
   "metadata": {},
   "source": [
    "## Display the names of all the employees in Boston."
   ]
  },
  {
   "cell_type": "code",
   "execution_count": 9,
   "metadata": {},
   "outputs": [
    {
     "data": {
      "text/plain": [
       "[(0, 'employeeNumber', '', 0, None, 0),\n",
       " (1, 'lastName', '', 0, None, 0),\n",
       " (2, 'firstName', '', 0, None, 0),\n",
       " (3, 'extension', '', 0, None, 0),\n",
       " (4, 'email', '', 0, None, 0),\n",
       " (5, 'officeCode', '', 0, None, 0),\n",
       " (6, 'reportsTo', '', 0, None, 0),\n",
       " (7, 'jobTitle', '', 0, None, 0)]"
      ]
     },
     "execution_count": 9,
     "metadata": {},
     "output_type": "execute_result"
    }
   ],
   "source": [
    "cursor.execute('''PRAGMA table_info(employees);''').fetchall()"
   ]
  },
  {
   "cell_type": "code",
   "execution_count": 10,
   "metadata": {},
   "outputs": [
    {
     "data": {
      "text/plain": [
       "[('Murphy', 'Diane'),\n",
       " ('Patterson', 'Mary'),\n",
       " ('Firrelli', 'Jeff'),\n",
       " ('Patterson', 'William'),\n",
       " ('Bondur', 'Gerard'),\n",
       " ('Bow', 'Anthony'),\n",
       " ('Jennings', 'Leslie'),\n",
       " ('Thompson', 'Leslie'),\n",
       " ('Firrelli', 'Julie'),\n",
       " ('Patterson', 'Steve'),\n",
       " ('Tseng', 'Foon Yue'),\n",
       " ('Vanauf', 'George'),\n",
       " ('Bondur', 'Loui'),\n",
       " ('Hernandez', 'Gerard'),\n",
       " ('Castillo', 'Pamela'),\n",
       " ('Bott', 'Larry'),\n",
       " ('Jones', 'Barry'),\n",
       " ('Fixter', 'Andy'),\n",
       " ('Marsh', 'Peter'),\n",
       " ('King', 'Tom'),\n",
       " ('Nishi', 'Mami'),\n",
       " ('Kato', 'Yoshimi'),\n",
       " ('Gerard', 'Martin')]"
      ]
     },
     "execution_count": 10,
     "metadata": {},
     "output_type": "execute_result"
    }
   ],
   "source": [
    "cursor.execute('''SELECT lastName, firstName FROM employees;''').fetchall()"
   ]
  },
  {
   "cell_type": "markdown",
   "metadata": {},
   "source": [
    "## Do any offices have no employees?"
   ]
  },
  {
   "cell_type": "code",
   "execution_count": 11,
   "metadata": {},
   "outputs": [
    {
     "data": {
      "text/plain": [
       "[(0, 'officeCode', '', 0, None, 0),\n",
       " (1, 'city', '', 0, None, 0),\n",
       " (2, 'phone', '', 0, None, 0),\n",
       " (3, 'addressLine1', '', 0, None, 0),\n",
       " (4, 'addressLine2', '', 0, None, 0),\n",
       " (5, 'state', '', 0, None, 0),\n",
       " (6, 'country', '', 0, None, 0),\n",
       " (7, 'postalCode', '', 0, None, 0),\n",
       " (8, 'territory', '', 0, None, 0)]"
      ]
     },
     "execution_count": 11,
     "metadata": {},
     "output_type": "execute_result"
    }
   ],
   "source": [
    "cursor.execute('''PRAGMA table_info(offices);''').fetchall()"
   ]
  },
  {
   "cell_type": "code",
   "execution_count": 16,
   "metadata": {},
   "outputs": [
    {
     "name": "stdout",
     "output_type": "stream",
     "text": [
      "No offices have no employees\n"
     ]
    }
   ],
   "source": [
    "if cursor.execute('''SELECT * FROM offices o LEFT JOIN employees e ON o.officeCode = e.officeCode WHERE e.officeCode IS NULL;''').fetchall() == []:\n",
    "    print('No offices have no employees')\n",
    "else:\n",
    "    print(cursor.execute('''SELECT * FROM offices o LEFT JOIN employees e ON o.officeCode = e.officeCode WHERE e.officeCode IS NULL;''').fetchall())\n"
   ]
  },
  {
   "cell_type": "markdown",
   "metadata": {},
   "source": [
    "## Write 3 Questions of your own and answer them"
   ]
  },
  {
   "cell_type": "code",
   "execution_count": 35,
   "metadata": {},
   "outputs": [],
   "source": [
    "# Who are the customers whose orders have yet to be shipped fulfilled? How many are there?"
   ]
  },
  {
   "cell_type": "code",
   "execution_count": 20,
   "metadata": {
    "scrolled": true
   },
   "outputs": [
    {
     "data": {
      "text/plain": [
       "[(0, 'orderNumber', '', 0, None, 0),\n",
       " (1, 'orderDate', '', 0, None, 0),\n",
       " (2, 'requiredDate', '', 0, None, 0),\n",
       " (3, 'shippedDate', '', 0, None, 0),\n",
       " (4, 'status', '', 0, None, 0),\n",
       " (5, 'comments', '', 0, None, 0),\n",
       " (6, 'customerNumber', '', 0, None, 0)]"
      ]
     },
     "execution_count": 20,
     "metadata": {},
     "output_type": "execute_result"
    }
   ],
   "source": [
    "cursor.execute('''PRAGMA table_info(orders);''').fetchall()"
   ]
  },
  {
   "cell_type": "code",
   "execution_count": 21,
   "metadata": {},
   "outputs": [
    {
     "data": {
      "text/plain": [
       "[(0, 'customerNumber', '', 0, None, 0),\n",
       " (1, 'customerName', '', 0, None, 0),\n",
       " (2, 'contactLastName', '', 0, None, 0),\n",
       " (3, 'contactFirstName', '', 0, None, 0),\n",
       " (4, 'phone', '', 0, None, 0),\n",
       " (5, 'addressLine1', '', 0, None, 0),\n",
       " (6, 'addressLine2', '', 0, None, 0),\n",
       " (7, 'city', '', 0, None, 0),\n",
       " (8, 'state', '', 0, None, 0),\n",
       " (9, 'postalCode', '', 0, None, 0),\n",
       " (10, 'country', '', 0, None, 0),\n",
       " (11, 'salesRepEmployeeNumber', '', 0, None, 0),\n",
       " (12, 'creditLimit', '', 0, None, 0)]"
      ]
     },
     "execution_count": 21,
     "metadata": {},
     "output_type": "execute_result"
    }
   ],
   "source": [
    "cursor.execute('''PRAGMA table_info(customers);''').fetchall()"
   ]
  },
  {
   "cell_type": "code",
   "execution_count": 33,
   "metadata": {},
   "outputs": [
    {
     "name": "stdout",
     "output_type": "stream",
     "text": [
      "[('363', 'Online Diecast Creations Co.'), ('128', 'Blauer See Auto, Co.'), ('181', 'Vitachrome Inc.'), ('121', 'Baane Mini Imports'), ('141', 'Euro+ Shopping Channel'), ('145', 'Danish Wholesale Imports'), ('278', 'Rovelli Gifts'), ('131', 'Land of Toys Inc.'), ('385', 'Cruz & Sons Co.'), ('486', 'Motor Mint Distributors Inc.'), ('187', 'AV Stores, Co.'), ('129', 'Mini Wheels Co.'), ('144', 'Volvo Model Replicas, Co'), ('124', 'Mini Gifts Distributors Ltd.'), ('172', \"La Corne D'abondance, Co.\"), ('424', 'Classic Legends Inc.'), ('381', 'Royale Belge'), ('148', 'Dragon Souveniers, Ltd.'), ('216', 'Enaco Distributors'), ('382', 'Salzburg Collectables'), ('114', 'Australian Collectors, Co.'), ('353', 'Reims Collectables'), ('350', 'Marseille Mini Autos'), ('103', 'Atelier graphique'), ('112', 'Signal Gift Stores'), ('114', 'Australian Collectors, Co.'), ('458', 'Corrida Auto Replicas, Ltd'), ('151', 'Muscle Machine Inc'), ('141', 'Euro+ Shopping Channel'), ('324', 'Stylish Desk Decors, Co.'), ('198', 'Auto-Moto Classics Inc.'), ('447', 'Gift Ideas Corp.'), ('323', 'Down Under Souveniers, Inc'), ('141', 'Euro+ Shopping Channel'), ('250', 'Lyon Souveniers'), ('124', 'Mini Gifts Distributors Ltd.'), ('242', 'Alpha Cognac'), ('353', 'Reims Collectables'), ('496', \"Kelly's Gift Shop\"), ('282', 'Souveniers And Things Co.'), ('161', 'Technics Stores Inc.'), ('334', 'Suominen Souveniers'), ('124', 'Mini Gifts Distributors Ltd.'), ('320', 'Mini Creations Ltd.'), ('381', 'Royale Belge'), ('205', 'Toys4GrownUps.com'), ('447', 'Gift Ideas Corp.'), ('379', 'Collectables For Less Inc.'), ('276', \"Anna's Decorations, Ltd\"), ('487', 'Signal Collectibles Ltd.'), ('148', 'Dragon Souveniers, Ltd.'), ('311', 'Oulu Toy Supplies, Inc.'), ('333', 'Australian Gift Network, Co'), ('141', 'Euro+ Shopping Channel'), ('219', 'Boards & Toys Co.'), ('186', 'Toys of Finland, Co.'), ('141', 'Euro+ Shopping Channel'), ('473', 'Frau da Collezione'), ('121', 'Baane Mini Imports'), ('321', 'Corporate Gift Ideas Co.'), ('347', \"Men 'R' US Retailers, Ltd.\"), ('227', 'Heintze Collectables'), ('321', 'Corporate Gift Ideas Co.'), ('424', 'Classic Legends Inc.'), ('452', 'Mini Auto Werke'), ('148', 'Dragon Souveniers, Ltd.'), ('462', 'FunGiftIdeas.com'), ('448', 'Scandinavian Gift Ideas'), ('161', 'Technics Stores Inc.'), ('276', \"Anna's Decorations, Ltd\"), ('452', 'Mini Auto Werke'), ('233', 'Québec Home Shopping Network'), ('175', 'Gift Depot Inc.'), ('278', 'Rovelli Gifts'), ('333', 'Australian Gift Network, Co'), ('324', 'Stylish Desk Decors, Co.'), ('386', \"L'ordine Souveniers\"), ('344', 'CAF Imports'), ('242', 'Alpha Cognac'), ('496', \"Kelly's Gift Shop\"), ('171', 'Daedalus Designs Imports'), ('167', 'Herkku Gifts'), ('124', 'Mini Gifts Distributors Ltd.'), ('339', 'Classic Gift Ideas, Inc'), ('484', 'Iberia Gift Imports, Corp.'), ('320', 'Mini Creations Ltd.'), ('489', 'Double Decker Gift Stores, Ltd'), ('211', 'King Kong Collectables, Co.'), ('167', 'Herkku Gifts'), ('205', 'Toys4GrownUps.com'), ('141', 'Euro+ Shopping Channel'), ('259', 'Toms Spezialitäten, Ltd'), ('363', 'Online Diecast Creations Co.'), ('471', 'Australian Collectables, Ltd'), ('146', 'Saveley & Henriot, Co.'), ('319', 'Mini Classics'), ('455', 'Super Scale Inc.'), ('216', 'Enaco Distributors'), ('385', 'Cruz & Sons Co.'), ('475', 'West Coast Collectables Co.'), ('211', 'King Kong Collectables, Co.'), ('129', 'Mini Wheels Co.'), ('357', 'GiftsForHim.com'), ('141', 'Euro+ Shopping Channel'), ('151', 'Muscle Machine Inc'), ('141', 'Euro+ Shopping Channel'), ('202', 'Canadian Gift Exchange Network'), ('495', 'Diecast Collectables'), ('146', 'Saveley & Henriot, Co.'), ('347', \"Men 'R' US Retailers, Ltd.\"), ('177', 'Osaka Souveniers Co.'), ('406', 'Auto Canal+ Petit'), ('141', 'Euro+ Shopping Channel'), ('489', 'Double Decker Gift Stores, Ltd'), ('458', 'Corrida Auto Replicas, Ltd'), ('475', 'West Coast Collectables Co.'), ('256', 'Auto Associés & Cie.'), ('166', 'Handji Gifts& Co'), ('473', 'Frau da Collezione'), ('487', 'Signal Collectibles Ltd.'), ('189', 'Clover Collections, Co.'), ('314', 'Petit Auto'), ('239', 'Collectable Mini Designs Co.'), ('114', 'Australian Collectors, Co.'), ('171', 'Daedalus Designs Imports'), ('298', 'Vida Sport, Ltd'), ('239', 'Collectable Mini Designs Co.'), ('146', 'Saveley & Henriot, Co.'), ('173', 'Cambridge Collectables Co.'), ('124', 'Mini Gifts Distributors Ltd.'), ('128', 'Blauer See Auto, Co.'), ('344', 'CAF Imports'), ('240', 'giftsbymail.co.uk'), ('328', 'Tekni Collectables Inc.'), ('412', 'Extreme Desk Decorations, Ltd'), ('260', 'Royal Canadian Collectables, Ltd.'), ('486', 'Motor Mint Distributors Inc.'), ('181', 'Vitachrome Inc.'), ('145', 'Danish Wholesale Imports'), ('311', 'Oulu Toy Supplies, Inc.'), ('177', 'Osaka Souveniers Co.'), ('209', 'Mini Caravy'), ('456', 'Microscale Inc.'), ('495', 'Diecast Collectables'), ('141', 'Euro+ Shopping Channel'), ('455', 'Super Scale Inc.'), ('141', 'Euro+ Shopping Channel'), ('334', 'Suominen Souveniers'), ('131', 'Land of Toys Inc.'), ('173', 'Cambridge Collectables Co.'), ('450', 'The Sharp Gifts Warehouse'), ('328', 'Tekni Collectables Inc.'), ('406', 'Auto Canal+ Petit'), ('201', 'UK Collectables, Ltd.'), ('323', 'Down Under Souveniers, Inc'), ('209', 'Mini Caravy'), ('145', 'Danish Wholesale Imports'), ('450', 'The Sharp Gifts Warehouse'), ('398', 'Tokyo Collectables, Ltd'), ('166', 'Handji Gifts& Co'), ('357', 'GiftsForHim.com'), ('233', 'Québec Home Shopping Network'), ('141', 'Euro+ Shopping Channel'), ('175', 'Gift Depot Inc.'), ('362', 'Gifts4AllAges.com'), ('471', 'Australian Collectables, Ltd'), ('386', \"L'ordine Souveniers\"), ('151', 'Muscle Machine Inc'), ('412', 'Extreme Desk Decorations, Ltd'), ('382', 'Salzburg Collectables'), ('282', 'Souveniers And Things Co.'), ('124', 'Mini Gifts Distributors Ltd.'), ('157', 'Diecast Classics Inc.'), ('314', 'Petit Auto'), ('379', 'Collectables For Less Inc.'), ('119', 'La Rochelle Gifts'), ('204', 'Online Mini Collectables'), ('148', 'Dragon Souveniers, Ltd.'), ('112', 'Signal Gift Stores'), ('141', 'Euro+ Shopping Channel'), ('249', 'Amica Models & Co.'), ('157', 'Diecast Classics Inc.'), ('124', 'Mini Gifts Distributors Ltd.'), ('260', 'Royal Canadian Collectables, Ltd.'), ('299', 'Norway Gifts By Mail, Co.'), ('286', \"Marta's Replicas Co.\"), ('172', \"La Corne D'abondance, Co.\"), ('298', 'Vida Sport, Ltd'), ('166', 'Handji Gifts& Co'), ('167', 'Herkku Gifts'), ('198', 'Auto-Moto Classics Inc.'), ('448', 'Scandinavian Gift Ideas'), ('131', 'Land of Toys Inc.'), ('249', 'Amica Models & Co.'), ('204', 'Online Mini Collectables'), ('362', 'Gifts4AllAges.com'), ('415', 'Bavarian Collectables Imports, Co.'), ('189', 'Clover Collections, Co.'), ('103', 'Atelier graphique'), ('186', 'Toys of Finland, Co.'), ('128', 'Blauer See Auto, Co.'), ('299', 'Norway Gifts By Mail, Co.'), ('201', 'UK Collectables, Ltd.'), ('484', 'Iberia Gift Imports, Corp.'), ('256', 'Auto Associés & Cie.'), ('286', \"Marta's Replicas Co.\"), ('187', 'AV Stores, Co.'), ('339', 'Classic Gift Ideas, Inc'), ('319', 'Mini Classics'), ('121', 'Baane Mini Imports'), ('259', 'Toms Spezialitäten, Ltd'), ('141', 'Euro+ Shopping Channel'), ('124', 'Mini Gifts Distributors Ltd.'), ('202', 'Canadian Gift Exchange Network'), ('227', 'Heintze Collectables'), ('119', 'La Rochelle Gifts'), ('240', 'giftsbymail.co.uk'), ('161', 'Technics Stores Inc.'), ('157', 'Diecast Classics Inc.'), ('456', 'Microscale Inc.'), ('144', 'Volvo Model Replicas, Co'), ('462', 'FunGiftIdeas.com'), ('363', 'Online Diecast Creations Co.'), ('128', 'Blauer See Auto, Co.'), ('181', 'Vitachrome Inc.'), ('121', 'Baane Mini Imports'), ('144', 'Volvo Model Replicas, Co'), ('145', 'Danish Wholesale Imports'), ('278', 'Rovelli Gifts'), ('131', 'Land of Toys Inc.'), ('385', 'Cruz & Sons Co.'), ('486', 'Motor Mint Distributors Inc.'), ('187', 'AV Stores, Co.'), ('129', 'Mini Wheels Co.'), ('144', 'Volvo Model Replicas, Co'), ('124', 'Mini Gifts Distributors Ltd.'), ('172', \"La Corne D'abondance, Co.\"), ('424', 'Classic Legends Inc.'), ('381', 'Royale Belge'), ('398', 'Tokyo Collectables, Ltd'), ('216', 'Enaco Distributors'), ('382', 'Salzburg Collectables'), ('114', 'Australian Collectors, Co.'), ('353', 'Reims Collectables'), ('350', 'Marseille Mini Autos'), ('103', 'Atelier graphique'), ('112', 'Signal Gift Stores'), ('114', 'Australian Collectors, Co.'), ('458', 'Corrida Auto Replicas, Ltd'), ('151', 'Muscle Machine Inc'), ('141', 'Euro+ Shopping Channel'), ('324', 'Stylish Desk Decors, Co.'), ('198', 'Auto-Moto Classics Inc.'), ('447', 'Gift Ideas Corp.'), ('323', 'Down Under Souveniers, Inc'), ('141', 'Euro+ Shopping Channel'), ('250', 'Lyon Souveniers'), ('124', 'Mini Gifts Distributors Ltd.'), ('141', 'Euro+ Shopping Channel'), ('353', 'Reims Collectables'), ('496', \"Kelly's Gift Shop\"), ('282', 'Souveniers And Things Co.'), ('161', 'Technics Stores Inc.'), ('334', 'Suominen Souveniers'), ('350', 'Marseille Mini Autos'), ('320', 'Mini Creations Ltd.'), ('381', 'Royale Belge'), ('205', 'Toys4GrownUps.com'), ('124', 'Mini Gifts Distributors Ltd.'), ('379', 'Collectables For Less Inc.'), ('276', \"Anna's Decorations, Ltd\"), ('124', 'Mini Gifts Distributors Ltd.'), ('398', 'Tokyo Collectables, Ltd'), ('311', 'Oulu Toy Supplies, Inc.'), ('333', 'Australian Gift Network, Co'), ('119', 'La Rochelle Gifts'), ('219', 'Boards & Toys Co.'), ('186', 'Toys of Finland, Co.'), ('141', 'Euro+ Shopping Channel'), ('141', 'Euro+ Shopping Channel'), ('141', 'Euro+ Shopping Channel'), ('321', 'Corporate Gift Ideas Co.'), ('124', 'Mini Gifts Distributors Ltd.'), ('141', 'Euro+ Shopping Channel'), ('321', 'Corporate Gift Ideas Co.'), ('124', 'Mini Gifts Distributors Ltd.'), ('141', 'Euro+ Shopping Channel'), ('148', 'Dragon Souveniers, Ltd.'), ('462', 'FunGiftIdeas.com'), ('448', 'Scandinavian Gift Ideas'), ('124', 'Mini Gifts Distributors Ltd.'), ('276', \"Anna's Decorations, Ltd\"), ('452', 'Mini Auto Werke'), ('323', 'Down Under Souveniers, Inc'), ('141', 'Euro+ Shopping Channel'), ('250', 'Lyon Souveniers'), ('124', 'Mini Gifts Distributors Ltd.'), ('242', 'Alpha Cognac'), ('353', 'Reims Collectables'), ('496', \"Kelly's Gift Shop\"), ('450', 'The Sharp Gifts Warehouse'), ('328', 'Tekni Collectables Inc.'), ('406', 'Auto Canal+ Petit'), ('201', 'UK Collectables, Ltd.'), ('323', 'Down Under Souveniers, Inc'), ('209', 'Mini Caravy'), ('145', 'Danish Wholesale Imports'), ('450', 'The Sharp Gifts Warehouse'), ('398', 'Tokyo Collectables, Ltd'), ('166', 'Handji Gifts& Co'), ('357', 'GiftsForHim.com'), ('233', 'Québec Home Shopping Network'), ('141', 'Euro+ Shopping Channel'), ('175', 'Gift Depot Inc.'), ('362', 'Gifts4AllAges.com'), ('471', 'Australian Collectables, Ltd'), ('386', \"L'ordine Souveniers\"), ('141', 'Euro+ Shopping Channel'), ('412', 'Extreme Desk Decorations, Ltd'), ('382', 'Salzburg Collectables'), ('282', 'Souveniers And Things Co.'), ('124', 'Mini Gifts Distributors Ltd.'), ('157', 'Diecast Classics Inc.'), ('314', 'Petit Auto'), ('141', 'Euro+ Shopping Channel'), ('119', 'La Rochelle Gifts')]\n"
     ]
    },
    {
     "data": {
      "text/plain": [
       "326"
      ]
     },
     "execution_count": 33,
     "metadata": {},
     "output_type": "execute_result"
    }
   ],
   "source": [
    "print(cursor.execute('''SELECT c.customerNumber, c.customerName FROM customers c LEFT JOIN orders o ON c.customerNumber = o.customerNumber WHERE o.customerNumber != 'Status';''').fetchall())\n",
    "len(cursor.execute('''SELECT c.customerNumber, c.customerName FROM customers c LEFT JOIN orders o ON c.customerNumber = o.customerNumber WHERE o.customerNumber != 'Status';''').fetchall())\n"
   ]
  },
  {
   "cell_type": "code",
   "execution_count": 51,
   "metadata": {},
   "outputs": [
    {
     "data": {
      "text/plain": [
       "[('San Francisco', 'CA'),\n",
       " ('San Francisco', 'CA'),\n",
       " ('San Francisco', 'CA'),\n",
       " ('San Francisco', 'CA'),\n",
       " ('San Francisco', 'CA'),\n",
       " ('San Francisco', 'CA'),\n",
       " ('Boston', 'MA'),\n",
       " ('Boston', 'MA'),\n",
       " ('NYC', 'NY'),\n",
       " ('NYC', 'NY'),\n",
       " ('Paris', ''),\n",
       " ('Paris', ''),\n",
       " ('Paris', ''),\n",
       " ('Paris', ''),\n",
       " ('Paris', ''),\n",
       " ('Tokyo', 'Chiyoda-Ku'),\n",
       " ('Tokyo', 'Chiyoda-Ku'),\n",
       " ('Sydney', ''),\n",
       " ('Sydney', ''),\n",
       " ('Sydney', ''),\n",
       " ('Sydney', ''),\n",
       " ('London', ''),\n",
       " ('London', '')]"
      ]
     },
     "execution_count": 51,
     "metadata": {},
     "output_type": "execute_result"
    }
   ],
   "source": [
    "# What are the cities these offices are in?\n",
    "cursor.execute('''SELECT city, state FROM offices o LEFT JOIN employees e ON o.officeCode = e.officeCode;''').fetchall()\n",
    "\n",
    "\n"
   ]
  },
  {
   "cell_type": "code",
   "execution_count": 52,
   "metadata": {},
   "outputs": [],
   "source": [
    "# What are the products to each product line?"
   ]
  },
  {
   "cell_type": "code",
   "execution_count": 61,
   "metadata": {},
   "outputs": [],
   "source": [
    "cursor.execute('''PRAGMA table_info(productlines);''').fetchall();"
   ]
  },
  {
   "cell_type": "code",
   "execution_count": 62,
   "metadata": {},
   "outputs": [],
   "source": [
    "cursor.execute('''PRAGMA table_info(products);''').fetchall();"
   ]
  },
  {
   "cell_type": "code",
   "execution_count": 63,
   "metadata": {},
   "outputs": [],
   "source": [
    "cursor.execute('''SELECT * FROM products;''').fetchall();"
   ]
  },
  {
   "cell_type": "code",
   "execution_count": 64,
   "metadata": {},
   "outputs": [],
   "source": [
    "cursor.execute('''SELECT * FROM productlines;''').fetchall();"
   ]
  },
  {
   "cell_type": "code",
   "execution_count": 180,
   "metadata": {},
   "outputs": [
    {
     "data": {
      "text/plain": [
       "[('Motorcycles', '1969 Harley Davidson Ultimate Chopper'),\n",
       " ('Classic Cars', '1952 Alpine Renault 1300'),\n",
       " ('Motorcycles', '1996 Moto Guzzi 1100i'),\n",
       " ('Motorcycles', '2003 Harley-Davidson Eagle Drag Bike'),\n",
       " ('Classic Cars', '1972 Alfa Romeo GTA'),\n",
       " ('Classic Cars', '1962 LanciaA Delta 16V'),\n",
       " ('Classic Cars', '1968 Ford Mustang'),\n",
       " ('Classic Cars', '2001 Ferrari Enzo'),\n",
       " ('Trucks and Buses', '1958 Setra Bus'),\n",
       " ('Motorcycles', '2002 Suzuki XREO'),\n",
       " ('Classic Cars', '1969 Corvair Monza'),\n",
       " ('Classic Cars', '1968 Dodge Charger'),\n",
       " ('Classic Cars', '1969 Ford Falcon'),\n",
       " ('Classic Cars', '1970 Plymouth Hemi Cuda'),\n",
       " ('Trucks and Buses', '1957 Chevy Pickup'),\n",
       " ('Classic Cars', '1969 Dodge Charger'),\n",
       " ('Trucks and Buses', '1940 Ford Pickup Truck'),\n",
       " ('Classic Cars', '1993 Mazda RX-7'),\n",
       " ('Vintage Cars', '1937 Lincoln Berline'),\n",
       " ('Vintage Cars', '1936 Mercedes-Benz 500K Special Roadster'),\n",
       " ('Classic Cars', '1965 Aston Martin DB5'),\n",
       " ('Planes', '1980s Black Hawk Helicopter'),\n",
       " ('Vintage Cars', '1917 Grand Touring Sedan'),\n",
       " ('Classic Cars', '1948 Porsche 356-A Roadster'),\n",
       " ('Classic Cars', '1995 Honda Civic'),\n",
       " ('Classic Cars', '1998 Chrysler Plymouth Prowler'),\n",
       " ('Vintage Cars', '1911 Ford Town Car'),\n",
       " ('Trucks and Buses', '1964 Mercedes Tour Bus'),\n",
       " ('Vintage Cars', '1932 Model A Ford J-Coupe'),\n",
       " ('Trucks and Buses', '1926 Ford Fire Engine'),\n",
       " ('Planes', 'P-51-D Mustang'),\n",
       " ('Motorcycles', '1936 Harley Davidson El Knucklehead'),\n",
       " ('Vintage Cars', '1928 Mercedes-Benz SSK'),\n",
       " ('Classic Cars', '1999 Indy 500 Monte Carlo SS'),\n",
       " ('Vintage Cars', '1913 Ford Model T Speedster'),\n",
       " ('Vintage Cars', '1934 Ford V8 Coupe'),\n",
       " ('Ships', '1999 Yamaha Speed Boat'),\n",
       " ('Vintage Cars', '18th Century Vintage Horse Carriage'),\n",
       " ('Vintage Cars', '1903 Ford Model A'),\n",
       " ('Classic Cars', '1992 Ferrari 360 Spider red'),\n",
       " ('Classic Cars', '1985 Toyota Supra'),\n",
       " ('Trains', 'Collectable Wooden Train'),\n",
       " ('Classic Cars', '1969 Dodge Super Bee'),\n",
       " ('Vintage Cars', '1917 Maxwell Touring Car'),\n",
       " ('Classic Cars', '1976 Ford Gran Torino'),\n",
       " ('Classic Cars', '1948 Porsche Type 356 Roadster'),\n",
       " ('Motorcycles', '1957 Vespa GS150'),\n",
       " ('Vintage Cars', '1941 Chevrolet Special Deluxe Cabriolet'),\n",
       " ('Classic Cars', '1970 Triumph Spitfire'),\n",
       " ('Vintage Cars', '1932 Alfa Romeo 8C2300 Spider Sport'),\n",
       " ('Vintage Cars', '1904 Buick Runabout'),\n",
       " ('Trucks and Buses', '1940s Ford truck'),\n",
       " ('Vintage Cars', '1939 Cadillac Limousine'),\n",
       " ('Classic Cars', '1957 Corvette Convertible'),\n",
       " ('Classic Cars', '1957 Ford Thunderbird'),\n",
       " ('Classic Cars', '1970 Chevy Chevelle SS 454'),\n",
       " ('Classic Cars', '1970 Dodge Coronet'),\n",
       " ('Motorcycles', '1997 BMW R 1100 S'),\n",
       " ('Classic Cars', '1966 Shelby Cobra 427 S/C'),\n",
       " ('Planes', '1928 British Royal Navy Airplane'),\n",
       " ('Vintage Cars', '1939 Chevrolet Deluxe Coupe'),\n",
       " ('Motorcycles', '1960 BSA Gold Star DBD34'),\n",
       " ('Ships', '18th century schooner'),\n",
       " ('Vintage Cars', '1938 Cadillac V-16 Presidential Limousine'),\n",
       " ('Trucks and Buses', '1962 Volkswagen Microbus'),\n",
       " ('Motorcycles', '1982 Ducati 900 Monster'),\n",
       " ('Classic Cars', '1949 Jaguar XK 120'),\n",
       " ('Classic Cars', '1958 Chevy Corvette Limited Edition'),\n",
       " ('Planes', '1900s Vintage Bi-Plane'),\n",
       " ('Classic Cars', '1952 Citroen-15CV'),\n",
       " ('Classic Cars', '1982 Lamborghini Diablo'),\n",
       " ('Vintage Cars', '1912 Ford Model T Delivery Wagon'),\n",
       " ('Classic Cars', '1969 Chevrolet Camaro Z28'),\n",
       " ('Classic Cars', '1971 Alpine Renault 1600s'),\n",
       " ('Vintage Cars', '1937 Horch 930V Limousine'),\n",
       " ('Classic Cars', '2002 Chevy Corvette'),\n",
       " ('Vintage Cars', '1940 Ford Delivery Sedan'),\n",
       " ('Classic Cars', '1956 Porsche 356A Coupe'),\n",
       " ('Planes', 'Corsair F4U ( Bird Cage)'),\n",
       " ('Vintage Cars', '1936 Mercedes Benz 500k Roadster'),\n",
       " ('Classic Cars', '1992 Porsche Cayenne Turbo Silver'),\n",
       " ('Vintage Cars', '1936 Chrysler Airflow'),\n",
       " ('Planes', '1900s Vintage Tri-Plane'),\n",
       " ('Classic Cars', '1961 Chevrolet Impala'),\n",
       " ('Trucks and Buses', '1980’s GM Manhattan Express'),\n",
       " ('Motorcycles', '1997 BMW F650 ST'),\n",
       " ('Motorcycles', '1982 Ducati 996 R'),\n",
       " ('Trucks and Buses', '1954 Greyhound Scenicruiser'),\n",
       " ('Trains', \"1950's Chicago Surface Lines Streetcar\"),\n",
       " ('Trucks and Buses', '1996 Peterbilt 379 Stake Bed with Outrigger'),\n",
       " ('Vintage Cars', '1928 Ford Phaeton Deluxe'),\n",
       " ('Motorcycles', '1974 Ducati 350 Mk3 Desmo'),\n",
       " ('Vintage Cars', '1930 Buick Marquette Phaeton'),\n",
       " ('Trucks and Buses', 'Diamond T620 Semi-Skirted Tanker'),\n",
       " ('Trains', '1962 City of Detroit Streetcar'),\n",
       " ('Motorcycles', '2002 Yamaha YZR M1'),\n",
       " ('Ships', 'The Schooner Bluenose'),\n",
       " ('Planes', 'American Airlines: B767-300'),\n",
       " ('Ships', 'The Mayflower'),\n",
       " ('Ships', 'HMS Bounty'),\n",
       " ('Planes', 'America West Airlines B757-200'),\n",
       " ('Ships', 'The USS Constitution Ship'),\n",
       " ('Classic Cars', '1982 Camaro Z28'),\n",
       " ('Planes', 'ATA: B757-300'),\n",
       " ('Planes', 'F/A 18 Hornet 1/72'),\n",
       " ('Ships', 'The Titanic'),\n",
       " ('Ships', 'The Queen Mary'),\n",
       " ('Planes', 'American Airlines: MD-11S'),\n",
       " ('Planes', 'Boeing X-32A JSF'),\n",
       " ('Ships', 'Pont Yacht')]"
      ]
     },
     "execution_count": 180,
     "metadata": {},
     "output_type": "execute_result"
    }
   ],
   "source": [
    "tuples = cursor.execute('''SELECT p.productLine, p.productName FROM products p INNER JOIN productlines pl ON p.productLine = pl.productLine;''').fetchall()\n",
    "tuples"
   ]
  },
  {
   "cell_type": "code",
   "execution_count": 197,
   "metadata": {},
   "outputs": [],
   "source": [
    "# make a table from these results"
   ]
  },
  {
   "cell_type": "code",
   "execution_count": 205,
   "metadata": {},
   "outputs": [
    {
     "data": {
      "text/plain": [
       "dict_keys(['Motorcycles', 'Classic Cars', 'Trucks and Buses', 'Vintage Cars', 'Planes', 'Ships', 'Trains'])"
      ]
     },
     "execution_count": 205,
     "metadata": {},
     "output_type": "execute_result"
    }
   ],
   "source": [
    "from collections import defaultdict\n",
    "\n",
    "dictionary_of_productline_lists = defaultdict(list) #specifies value type to be list\n",
    "for productline, product in tuples:\n",
    "    dictionary_of_productline_lists[productline].append(product)\n",
    "dictionary_of_productline_lists.keys()"
   ]
  },
  {
   "cell_type": "code",
   "execution_count": 143,
   "metadata": {},
   "outputs": [
    {
     "data": {
      "text/plain": [
       "['Planes',\n",
       " 'Classic Cars',\n",
       " 'Motorcycles',\n",
       " 'Trains',\n",
       " 'Trucks and Buses',\n",
       " 'Vintage Cars',\n",
       " 'Ships']"
      ]
     },
     "execution_count": 143,
     "metadata": {},
     "output_type": "execute_result"
    }
   ],
   "source": [
    "headers = list(set(list(map(lambda tup: tup[0],tuples))))\n",
    "headers #turn this of headers into table headers\n",
    "# values; #populate the table with each value associated with proper header"
   ]
  },
  {
   "cell_type": "code",
   "execution_count": 117,
   "metadata": {},
   "outputs": [
    {
     "name": "stdout",
     "output_type": "stream",
     "text": [
      "CREATE TABLE combined (Planes TEXT, ClassicCars TEXT, Motorcycles TEXT, Trains TEXT, TrucksandBuses TEXT, VintageCars TEXT, Ships TEXT);\n"
     ]
    }
   ],
   "source": [
    "sql_statement = 'CREATE TABLE combined ('\n",
    "\n",
    "for column_name in headers:\n",
    "    sql_statement += column_name.replace(' ','')\n",
    "    sql_statement += ' TEXT'\n",
    "    sql_statement += ', '\n",
    "    \n",
    "sql_statement += ');'\n",
    "sql_statement = sql_statement.rstrip(', );') + ');'\n",
    "print(sql_statement)"
   ]
  },
  {
   "cell_type": "code",
   "execution_count": 118,
   "metadata": {},
   "outputs": [
    {
     "data": {
      "text/plain": [
       "<sqlite3.Cursor at 0x102bf9570>"
      ]
     },
     "execution_count": 118,
     "metadata": {},
     "output_type": "execute_result"
    }
   ],
   "source": [
    "cursor.execute(sql_statement)"
   ]
  },
  {
   "cell_type": "code",
   "execution_count": 119,
   "metadata": {},
   "outputs": [
    {
     "data": {
      "text/plain": [
       "[]"
      ]
     },
     "execution_count": 119,
     "metadata": {},
     "output_type": "execute_result"
    }
   ],
   "source": [
    "cursor.execute('SELECT * FROM combined').fetchall()"
   ]
  },
  {
   "cell_type": "code",
   "execution_count": 121,
   "metadata": {},
   "outputs": [
    {
     "data": {
      "text/plain": [
       "[(0, 'Planes', 'TEXT', 0, None, 0),\n",
       " (1, 'ClassicCars', 'TEXT', 0, None, 0),\n",
       " (2, 'Motorcycles', 'TEXT', 0, None, 0),\n",
       " (3, 'Trains', 'TEXT', 0, None, 0),\n",
       " (4, 'TrucksandBuses', 'TEXT', 0, None, 0),\n",
       " (5, 'VintageCars', 'TEXT', 0, None, 0),\n",
       " (6, 'Ships', 'TEXT', 0, None, 0)]"
      ]
     },
     "execution_count": 121,
     "metadata": {},
     "output_type": "execute_result"
    }
   ],
   "source": [
    "cursor.execute('PRAGMA table_info(combined)').fetchall()"
   ]
  },
  {
   "cell_type": "code",
   "execution_count": 122,
   "metadata": {},
   "outputs": [
    {
     "data": {
      "text/plain": [
       "110"
      ]
     },
     "execution_count": 122,
     "metadata": {},
     "output_type": "execute_result"
    }
   ],
   "source": [
    "values_list = [] #list of tuples\n",
    "for i in range(0,len(tuples)):\n",
    "    \n",
    "# for row in rows:\n",
    "#     Values(a,b,c,)\n",
    "# item in motor_list"
   ]
  },
  {
   "cell_type": "code",
   "execution_count": null,
   "metadata": {},
   "outputs": [],
   "source": [
    "for header in headers:\n",
    "    for value in uk[header]\n",
    "    x = plane,motor,cc\n",
    "    INSERT INTO combined VALUES(x)"
   ]
  },
  {
   "cell_type": "code",
   "execution_count": 161,
   "metadata": {},
   "outputs": [
    {
     "data": {
      "text/plain": [
       "True"
      ]
     },
     "execution_count": 161,
     "metadata": {},
     "output_type": "execute_result"
    }
   ],
   "source": [
    "listt = []\n",
    "for header in headers:\n",
    "    listt.append(uk[header])"
   ]
  },
  {
   "cell_type": "markdown",
   "metadata": {},
   "source": [
    "## Level Up: Display the names of each product each employee has sold."
   ]
  },
  {
   "cell_type": "code",
   "execution_count": null,
   "metadata": {},
   "outputs": [],
   "source": [
    "# Your code here"
   ]
  },
  {
   "cell_type": "markdown",
   "metadata": {},
   "source": [
    "## Level Up: Display the Number of Products each Employee Has sold"
   ]
  },
  {
   "cell_type": "code",
   "execution_count": null,
   "metadata": {},
   "outputs": [],
   "source": [
    "#Your code here"
   ]
  },
  {
   "cell_type": "markdown",
   "metadata": {},
   "source": [
    "## Summary"
   ]
  },
  {
   "cell_type": "markdown",
   "metadata": {},
   "source": [
    "Congrats! You now know how to use Join statements, along with leveraging your foreign keys knowledge!"
   ]
  }
 ],
 "metadata": {
  "kernelspec": {
   "display_name": "Python 3",
   "language": "python",
   "name": "python3"
  },
  "language_info": {
   "codemirror_mode": {
    "name": "ipython",
    "version": 3
   },
   "file_extension": ".py",
   "mimetype": "text/x-python",
   "name": "python",
   "nbconvert_exporter": "python",
   "pygments_lexer": "ipython3",
   "version": "3.7.0"
  }
 },
 "nbformat": 4,
 "nbformat_minor": 2
}
